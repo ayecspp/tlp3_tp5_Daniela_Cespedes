{
 "cells": [
  {
   "cell_type": "markdown",
   "metadata": {},
   "source": [
    "### ¿Cómo funciona el algoritmo Selection Sort?\n",
    "\n",
    "Selection Sort (Ordenamiento por selección) funciona de la siguiente manera:\n",
    "1. Recorre la lista y busca el número más pequeño.\n",
    "2. Lo intercambia con el primer número de la lista.\n",
    "3. Luego busca el segundo número más pequeño en el resto de la lista y lo intercambia con el segundo lugar.\n",
    "4. Repite este proceso hasta que toda la lista esté ordenada."
   ]
  },
  {
   "cell_type": "code",
   "execution_count": 4,
   "metadata": {},
   "outputs": [
    {
     "name": "stdout",
     "output_type": "stream",
     "text": [
      "Tiempo Selection Sort: 0.03469 segundos\n",
      "Tiempo Bubble Sort: 0.06620 segundos\n"
     ]
    }
   ],
   "source": [
    "# Celda de código: Implementación de Selection Sort\n",
    "def selection_sort(arr):\n",
    "    n = len(arr)                 # 1. Obtenemos la cantidad de elementos en la lista\n",
    "    for i in range(n):           # 2. Recorremos la lista desde el primer hasta el último elemento\n",
    "        min_idx = i              # 3. Suponemos que el mínimo está en la posición actual (i)\n",
    "        for j in range(i+1, n):  # 4. Buscamos en el resto de la lista (desde i+1 hasta el final)\n",
    "            if arr[j] < arr[min_idx]:                # 5. Si encontramos un valor más chico...\n",
    "                min_idx = j                          # actualizamos el índice del mínimo\n",
    "        arr[i], arr[min_idx] = arr[min_idx], arr[i]  # 6. Intercambiamos el valor mínimo con el valor actual\n",
    "    return arr                                       # 7. Devolvemos la lista ordenada\n",
    "\n",
    "\n",
    "# Celda de código: Implementación de Bubble Sort\n",
    "def bubble_sort(arr):\n",
    "    n = len(arr)                           # 1. Obtenemos la cantidad de elementos en la lista\n",
    "    for i in range(n):                     # 2. Repetimos el proceso n veces\n",
    "        for j in range(0, n-i-1):          # 3. Comparamos pares de elementos uno al lado del otro\n",
    "            if arr[j] > arr[j+1]:          # 4. Si están en el orden incorrecto...\n",
    "                arr[j], arr[j+1] = arr[j+1], arr[j]  #...los intercambiamos\n",
    "    return arr                             # 5. Devolvemos la lista ordenada\n",
    "\n",
    "# Celda de código: Comparación de tiempos\n",
    "import time\n",
    "import random\n",
    "\n",
    "# Generar una lista de 1000 números aleatorios\n",
    "lista = [random.randint(0, 10000) for _ in range(1000)]\n",
    "\n",
    "# Copias de la lista para ambos algoritmos\n",
    "lista_selection = lista.copy()\n",
    "lista_bubble = lista.copy()\n",
    "\n",
    "# Medir tiempo de Selection Sort\n",
    "inicio = time.time()\n",
    "selection_sort(lista_selection)\n",
    "tiempo_selection = time.time() - inicio\n",
    "\n",
    "# Medir tiempo de Bubble Sort\n",
    "inicio = time.time()\n",
    "bubble_sort(lista_bubble)\n",
    "tiempo_bubble = time.time() - inicio\n",
    "\n",
    "print(f\"Tiempo Selection Sort: {tiempo_selection:.5f} segundos\")\n",
    "print(f\"Tiempo Bubble Sort: {tiempo_bubble:.5f} segundos\")"
   ]
  },
  {
   "cell_type": "markdown",
   "metadata": {},
   "source": [
    "### Conclusión\n",
    "- **¿Cuál fue más rápido?**\n",
    "  En la mayoría de los casos, **Selection Sort** es un poco más rápido que **Bubble Sort**, aunque ambos son lentos para listas grandes.\n",
    "\n",
    "- **¿Te sorprendió el resultado?**\n",
    "  La verdad es que no me sorprendió, no hay demasiada diferencia de tiempo entre ambos métodos.\n",
    "\n",
    "- **¿Te gustó el algoritmo que elegiste?**\n",
    "  Sí, porque es fácil de entender y seguir paso a paso."
   ]
  }
 ],
 "metadata": {
  "kernelspec": {
   "display_name": "base",
   "language": "python",
   "name": "python3"
  },
  "language_info": {
   "codemirror_mode": {
    "name": "ipython",
    "version": 3
   },
   "file_extension": ".py",
   "mimetype": "text/x-python",
   "name": "python",
   "nbconvert_exporter": "python",
   "pygments_lexer": "ipython3",
   "version": "3.12.7"
  }
 },
 "nbformat": 4,
 "nbformat_minor": 2
}
